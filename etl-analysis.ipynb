{
 "cells": [
  {
   "cell_type": "code",
   "execution_count": 1,
   "id": "affiliated-rainbow",
   "metadata": {},
   "outputs": [],
   "source": [
    "import pandas as pd\n",
    "from sqlalchemy import create_engine\n",
    "from config import key_dict"
   ]
  },
  {
   "cell_type": "code",
   "execution_count": 2,
   "id": "suited-transformation",
   "metadata": {},
   "outputs": [],
   "source": [
    "bitcoin = pd.read_csv('bitcoin all time.csv')\n",
    "dow_jones = pd.read_csv('HistoricalDJIA.csv')\n",
    "goldprices_df = pd.read_csv(\"Gold Prices 1979-2021.csv\")"
   ]
  },
  {
   "cell_type": "code",
   "execution_count": 3,
   "id": "trying-kingdom",
   "metadata": {},
   "outputs": [],
   "source": [
    "bitcoin = bitcoin[['Date', 'Closing Price (USD)']]\n",
    "dow_jones = dow_jones[['Date', ' Close']]\n",
    "goldprices_clean_df = goldprices_df[['date', 'price in usd per troy oz']].copy()\n",
    "\n",
    "bitcoin.Date = pd.to_datetime(bitcoin.Date)\n",
    "dow_jones.Date = pd.to_datetime(dow_jones.Date)\n",
    "goldprices_clean_df.date = pd.to_datetime(goldprices_clean_df.date)\n",
    "\n",
    "bitcoin.reset_index(inplace = True, drop = True)\n",
    "dow_jones.reset_index(inplace = True, drop = True)\n",
    "goldprices_clean_df.reset_index(inplace = True, drop = True)\n",
    "\n",
    "bitcoin['id'] = list(bitcoin.index.values)\n",
    "dow_jones['id'] = list(dow_jones.index.values)\n",
    "goldprices_clean_df['id'] = list(goldprices_clean_df.index.values)"
   ]
  },
  {
   "cell_type": "code",
   "execution_count": 4,
   "id": "median-contractor",
   "metadata": {},
   "outputs": [],
   "source": [
    "bitcoin.rename(columns = {\"Date\":\"date_\", \"Closing Price (USD)\":\"price_usd_bc\"}, inplace = True)\n",
    "dow_jones.rename(columns = {\"Date\":\"date_\", \" Close\":\"score_dj\"}, inplace = True)\n",
    "goldprices_clean_df.rename(columns={\"date\": \"date_\",\n",
    "                                    \"price in usd per troy oz\":\"price_usd_gold\"},inplace = True)"
   ]
  },
  {
   "cell_type": "code",
   "execution_count": 5,
   "id": "fallen-istanbul",
   "metadata": {},
   "outputs": [],
   "source": [
    "goldprices_clean_df.price_usd_gold = goldprices_clean_df.price_usd_gold.replace(\",\",\"\",regex = True)\n",
    "goldprices_clean_df.price_usd_gold = goldprices_clean_df.price_usd_gold.astype(float)"
   ]
  },
  {
   "cell_type": "code",
   "execution_count": 6,
   "id": "expired-wales",
   "metadata": {},
   "outputs": [
    {
     "data": {
      "text/html": [
       "<div>\n",
       "<style scoped>\n",
       "    .dataframe tbody tr th:only-of-type {\n",
       "        vertical-align: middle;\n",
       "    }\n",
       "\n",
       "    .dataframe tbody tr th {\n",
       "        vertical-align: top;\n",
       "    }\n",
       "\n",
       "    .dataframe thead th {\n",
       "        text-align: right;\n",
       "    }\n",
       "</style>\n",
       "<table border=\"1\" class=\"dataframe\">\n",
       "  <thead>\n",
       "    <tr style=\"text-align: right;\">\n",
       "      <th></th>\n",
       "      <th>date_</th>\n",
       "      <th>price_usd_gold</th>\n",
       "      <th>id</th>\n",
       "    </tr>\n",
       "  </thead>\n",
       "  <tbody>\n",
       "    <tr>\n",
       "      <th>0</th>\n",
       "      <td>1978-12-29</td>\n",
       "      <td>226.0</td>\n",
       "      <td>0</td>\n",
       "    </tr>\n",
       "    <tr>\n",
       "      <th>1</th>\n",
       "      <td>1979-01-01</td>\n",
       "      <td>226.0</td>\n",
       "      <td>1</td>\n",
       "    </tr>\n",
       "    <tr>\n",
       "      <th>2</th>\n",
       "      <td>1979-01-02</td>\n",
       "      <td>226.8</td>\n",
       "      <td>2</td>\n",
       "    </tr>\n",
       "    <tr>\n",
       "      <th>3</th>\n",
       "      <td>1979-01-03</td>\n",
       "      <td>218.6</td>\n",
       "      <td>3</td>\n",
       "    </tr>\n",
       "    <tr>\n",
       "      <th>4</th>\n",
       "      <td>1979-01-04</td>\n",
       "      <td>223.2</td>\n",
       "      <td>4</td>\n",
       "    </tr>\n",
       "    <tr>\n",
       "      <th>...</th>\n",
       "      <td>...</td>\n",
       "      <td>...</td>\n",
       "      <td>...</td>\n",
       "    </tr>\n",
       "    <tr>\n",
       "      <th>11036</th>\n",
       "      <td>2021-04-19</td>\n",
       "      <td>1774.5</td>\n",
       "      <td>11036</td>\n",
       "    </tr>\n",
       "    <tr>\n",
       "      <th>11037</th>\n",
       "      <td>2021-04-20</td>\n",
       "      <td>1777.9</td>\n",
       "      <td>11037</td>\n",
       "    </tr>\n",
       "    <tr>\n",
       "      <th>11038</th>\n",
       "      <td>2021-04-21</td>\n",
       "      <td>1798.2</td>\n",
       "      <td>11038</td>\n",
       "    </tr>\n",
       "    <tr>\n",
       "      <th>11039</th>\n",
       "      <td>2021-04-22</td>\n",
       "      <td>1787.8</td>\n",
       "      <td>11039</td>\n",
       "    </tr>\n",
       "    <tr>\n",
       "      <th>11040</th>\n",
       "      <td>2021-04-23</td>\n",
       "      <td>1781.8</td>\n",
       "      <td>11040</td>\n",
       "    </tr>\n",
       "  </tbody>\n",
       "</table>\n",
       "<p>11041 rows × 3 columns</p>\n",
       "</div>"
      ],
      "text/plain": [
       "           date_  price_usd_gold     id\n",
       "0     1978-12-29           226.0      0\n",
       "1     1979-01-01           226.0      1\n",
       "2     1979-01-02           226.8      2\n",
       "3     1979-01-03           218.6      3\n",
       "4     1979-01-04           223.2      4\n",
       "...          ...             ...    ...\n",
       "11036 2021-04-19          1774.5  11036\n",
       "11037 2021-04-20          1777.9  11037\n",
       "11038 2021-04-21          1798.2  11038\n",
       "11039 2021-04-22          1787.8  11039\n",
       "11040 2021-04-23          1781.8  11040\n",
       "\n",
       "[11041 rows x 3 columns]"
      ]
     },
     "execution_count": 6,
     "metadata": {},
     "output_type": "execute_result"
    }
   ],
   "source": [
    "goldprices_clean_df"
   ]
  },
  {
   "cell_type": "code",
   "execution_count": 7,
   "id": "jewish-tiffany",
   "metadata": {},
   "outputs": [],
   "source": [
    "connection_string = \"postgres:\" + key_dict['postgres'] + \"@localhost:5432/etl-project\"\n",
    "engine = create_engine(f\"postgresql://{connection_string}\")"
   ]
  },
  {
   "cell_type": "code",
   "execution_count": 8,
   "id": "sweet-english",
   "metadata": {},
   "outputs": [
    {
     "name": "stderr",
     "output_type": "stream",
     "text": [
      "F:\\anaconda\\envs\\PythonData\\lib\\site-packages\\ipykernel_launcher.py:1: SADeprecationWarning: The Engine.table_names() method is deprecated and will be removed in a future release.  Please refer to Inspector.get_table_names(). (deprecated since: 1.4)\n",
      "  \"\"\"Entry point for launching an IPython kernel.\n"
     ]
    },
    {
     "data": {
      "text/plain": [
       "['djia_data', 'gold_prices', 'bitcoin_data']"
      ]
     },
     "execution_count": 8,
     "metadata": {},
     "output_type": "execute_result"
    }
   ],
   "source": [
    "engine.table_names()"
   ]
  },
  {
   "cell_type": "code",
   "execution_count": 9,
   "id": "fancy-wallet",
   "metadata": {},
   "outputs": [],
   "source": [
    "bitcoin.to_sql(name = 'bitcoin_data', con = engine, if_exists = 'replace', index = False)\n",
    "dow_jones.to_sql(name = 'djia_data', con = engine, if_exists = 'replace', index = False)\n",
    "goldprices_clean_df.to_sql(name='gold_prices', con=engine, if_exists='append', index=False)"
   ]
  },
  {
   "cell_type": "code",
   "execution_count": 10,
   "id": "average-revision",
   "metadata": {
    "scrolled": true
   },
   "outputs": [
    {
     "data": {
      "text/html": [
       "<div>\n",
       "<style scoped>\n",
       "    .dataframe tbody tr th:only-of-type {\n",
       "        vertical-align: middle;\n",
       "    }\n",
       "\n",
       "    .dataframe tbody tr th {\n",
       "        vertical-align: top;\n",
       "    }\n",
       "\n",
       "    .dataframe thead th {\n",
       "        text-align: right;\n",
       "    }\n",
       "</style>\n",
       "<table border=\"1\" class=\"dataframe\">\n",
       "  <thead>\n",
       "    <tr style=\"text-align: right;\">\n",
       "      <th></th>\n",
       "      <th>date_</th>\n",
       "      <th>price_usd_bc</th>\n",
       "      <th>score_dj</th>\n",
       "      <th>price_usd_gold</th>\n",
       "    </tr>\n",
       "  </thead>\n",
       "  <tbody>\n",
       "    <tr>\n",
       "      <th>0</th>\n",
       "      <td>2013-09-30</td>\n",
       "      <td>123.654990</td>\n",
       "      <td>15129.67</td>\n",
       "      <td>1326.5</td>\n",
       "    </tr>\n",
       "    <tr>\n",
       "      <th>1</th>\n",
       "      <td>2013-10-01</td>\n",
       "      <td>125.455000</td>\n",
       "      <td>15191.70</td>\n",
       "      <td>1290.8</td>\n",
       "    </tr>\n",
       "    <tr>\n",
       "      <th>2</th>\n",
       "      <td>2013-10-02</td>\n",
       "      <td>108.584830</td>\n",
       "      <td>15133.14</td>\n",
       "      <td>1306.3</td>\n",
       "    </tr>\n",
       "    <tr>\n",
       "      <th>3</th>\n",
       "      <td>2013-10-03</td>\n",
       "      <td>118.674660</td>\n",
       "      <td>14996.48</td>\n",
       "      <td>1316.0</td>\n",
       "    </tr>\n",
       "    <tr>\n",
       "      <th>4</th>\n",
       "      <td>2013-10-04</td>\n",
       "      <td>121.338660</td>\n",
       "      <td>15072.58</td>\n",
       "      <td>1309.8</td>\n",
       "    </tr>\n",
       "    <tr>\n",
       "      <th>...</th>\n",
       "      <td>...</td>\n",
       "      <td>...</td>\n",
       "      <td>...</td>\n",
       "      <td>...</td>\n",
       "    </tr>\n",
       "    <tr>\n",
       "      <th>1902</th>\n",
       "      <td>2021-04-19</td>\n",
       "      <td>56224.101588</td>\n",
       "      <td>34077.63</td>\n",
       "      <td>1774.5</td>\n",
       "    </tr>\n",
       "    <tr>\n",
       "      <th>1903</th>\n",
       "      <td>2021-04-20</td>\n",
       "      <td>56608.769748</td>\n",
       "      <td>33821.30</td>\n",
       "      <td>1777.9</td>\n",
       "    </tr>\n",
       "    <tr>\n",
       "      <th>1904</th>\n",
       "      <td>2021-04-21</td>\n",
       "      <td>54144.427476</td>\n",
       "      <td>34137.31</td>\n",
       "      <td>1798.2</td>\n",
       "    </tr>\n",
       "    <tr>\n",
       "      <th>1905</th>\n",
       "      <td>2021-04-22</td>\n",
       "      <td>51965.059559</td>\n",
       "      <td>33815.90</td>\n",
       "      <td>1787.8</td>\n",
       "    </tr>\n",
       "    <tr>\n",
       "      <th>1906</th>\n",
       "      <td>2021-04-23</td>\n",
       "      <td>50669.144382</td>\n",
       "      <td>34043.49</td>\n",
       "      <td>1781.8</td>\n",
       "    </tr>\n",
       "  </tbody>\n",
       "</table>\n",
       "<p>1907 rows × 4 columns</p>\n",
       "</div>"
      ],
      "text/plain": [
       "          date_  price_usd_bc  score_dj  price_usd_gold\n",
       "0    2013-09-30    123.654990  15129.67          1326.5\n",
       "1    2013-10-01    125.455000  15191.70          1290.8\n",
       "2    2013-10-02    108.584830  15133.14          1306.3\n",
       "3    2013-10-03    118.674660  14996.48          1316.0\n",
       "4    2013-10-04    121.338660  15072.58          1309.8\n",
       "...         ...           ...       ...             ...\n",
       "1902 2021-04-19  56224.101588  34077.63          1774.5\n",
       "1903 2021-04-20  56608.769748  33821.30          1777.9\n",
       "1904 2021-04-21  54144.427476  34137.31          1798.2\n",
       "1905 2021-04-22  51965.059559  33815.90          1787.8\n",
       "1906 2021-04-23  50669.144382  34043.49          1781.8\n",
       "\n",
       "[1907 rows x 4 columns]"
      ]
     },
     "execution_count": 10,
     "metadata": {},
     "output_type": "execute_result"
    }
   ],
   "source": [
    "pd.read_sql_query(\"SELECT bitcoin_data.date_, bitcoin_data.price_usd_bc, djia_data.score_dj, gold_prices.price_usd_gold \\\n",
    "                    FROM bitcoin_data \\\n",
    "                    JOIN djia_data \\\n",
    "                    ON bitcoin_data.date_ = djia_data.date_ \\\n",
    "                    JOIN gold_prices \\\n",
    "                    ON gold_prices.date_ = djia_data.date_\", con = engine)"
   ]
  }
 ],
 "metadata": {
  "kernelspec": {
   "display_name": "Python [conda env:PythonData] *",
   "language": "python",
   "name": "conda-env-PythonData-py"
  },
  "language_info": {
   "codemirror_mode": {
    "name": "ipython",
    "version": 3
   },
   "file_extension": ".py",
   "mimetype": "text/x-python",
   "name": "python",
   "nbconvert_exporter": "python",
   "pygments_lexer": "ipython3",
   "version": "3.6.10"
  }
 },
 "nbformat": 4,
 "nbformat_minor": 5
}
