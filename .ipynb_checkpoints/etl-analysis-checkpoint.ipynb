{
 "cells": [
  {
   "cell_type": "code",
   "execution_count": 1,
   "id": "affiliated-rainbow",
   "metadata": {},
   "outputs": [],
   "source": [
    "import pandas as pd\n",
    "from sqlalchemy import create_engine\n",
    "from config import key_dict"
   ]
  },
  {
   "cell_type": "code",
   "execution_count": 23,
   "id": "suited-transformation",
   "metadata": {},
   "outputs": [],
   "source": [
    "bitcoin = pd.read_csv('bitcoin all time.csv')\n",
    "dow_jones = pd.read_csv('HistoricalDJIA.csv')"
   ]
  },
  {
   "cell_type": "code",
   "execution_count": 25,
   "id": "trying-kingdom",
   "metadata": {},
   "outputs": [],
   "source": [
    "bitcoin = bitcoin[['Date', 'Closing Price (USD)']]\n",
    "dow_jones = dow_jones[['Date', ' Close']]\n",
    "\n",
    "bitcoin.Date = pd.to_datetime(bitcoin.Date)\n",
    "dow_jones.Date = pd.to_datetime(dow_jones.Date)\n",
    "\n",
    "bitcoin.reset_index(inplace = True, drop = True)\n",
    "dow_jones.reset_index(inplace = True, drop = True)\n",
    "\n",
    "bitcoin['id'] = list(bitcoin.index.values)\n",
    "dow_jones['id'] = list(dow_jones.index.values)"
   ]
  },
  {
   "cell_type": "code",
   "execution_count": 33,
   "id": "median-contractor",
   "metadata": {},
   "outputs": [],
   "source": [
    "bitcoin.rename(columns = {\"Date\":\"date_\", \"Closing Price (USD)\":\"price_usd_bc\"}, inplace = True)\n",
    "dow_jones.rename(columns = {\"Date\":\"date_\", \" Close\":\"score\"}, inplace = True)"
   ]
  },
  {
   "cell_type": "code",
   "execution_count": 8,
   "id": "jewish-tiffany",
   "metadata": {},
   "outputs": [],
   "source": [
    "connection_string = \"postgres:\" + key_dict['postgres'] + \"@localhost:5432/etl-project\"\n",
    "engine = create_engine(f\"postgresql://{connection_string}\")"
   ]
  },
  {
   "cell_type": "code",
   "execution_count": 10,
   "id": "sweet-english",
   "metadata": {},
   "outputs": [
    {
     "name": "stderr",
     "output_type": "stream",
     "text": [
      "F:\\anaconda\\envs\\PythonData\\lib\\site-packages\\ipykernel_launcher.py:1: SADeprecationWarning: The Engine.table_names() method is deprecated and will be removed in a future release.  Please refer to Inspector.get_table_names(). (deprecated since: 1.4)\n",
      "  \"\"\"Entry point for launching an IPython kernel.\n"
     ]
    },
    {
     "data": {
      "text/plain": [
       "['gold_data', 'bitcoin_data', 'djia_data']"
      ]
     },
     "execution_count": 10,
     "metadata": {},
     "output_type": "execute_result"
    }
   ],
   "source": [
    "engine.table_names()"
   ]
  },
  {
   "cell_type": "code",
   "execution_count": 37,
   "id": "fancy-wallet",
   "metadata": {},
   "outputs": [],
   "source": [
    "bitcoin.to_sql(name = 'bitcoin_data', con = engine, if_exists = 'replace', index = False)\n",
    "dow_jones.to_sql(name = 'djia_data', con = engine, if_exists = 'replace', index = False)"
   ]
  },
  {
   "cell_type": "code",
   "execution_count": 39,
   "id": "average-revision",
   "metadata": {
    "scrolled": true
   },
   "outputs": [
    {
     "data": {
      "text/html": [
       "<div>\n",
       "<style scoped>\n",
       "    .dataframe tbody tr th:only-of-type {\n",
       "        vertical-align: middle;\n",
       "    }\n",
       "\n",
       "    .dataframe tbody tr th {\n",
       "        vertical-align: top;\n",
       "    }\n",
       "\n",
       "    .dataframe thead th {\n",
       "        text-align: right;\n",
       "    }\n",
       "</style>\n",
       "<table border=\"1\" class=\"dataframe\">\n",
       "  <thead>\n",
       "    <tr style=\"text-align: right;\">\n",
       "      <th></th>\n",
       "      <th>date_</th>\n",
       "      <th>price_usd_bc</th>\n",
       "      <th>score</th>\n",
       "    </tr>\n",
       "  </thead>\n",
       "  <tbody>\n",
       "    <tr>\n",
       "      <th>0</th>\n",
       "      <td>2013-09-30</td>\n",
       "      <td>123.654990</td>\n",
       "      <td>15129.67</td>\n",
       "    </tr>\n",
       "    <tr>\n",
       "      <th>1</th>\n",
       "      <td>2013-10-01</td>\n",
       "      <td>125.455000</td>\n",
       "      <td>15191.70</td>\n",
       "    </tr>\n",
       "    <tr>\n",
       "      <th>2</th>\n",
       "      <td>2013-10-02</td>\n",
       "      <td>108.584830</td>\n",
       "      <td>15133.14</td>\n",
       "    </tr>\n",
       "    <tr>\n",
       "      <th>3</th>\n",
       "      <td>2013-10-03</td>\n",
       "      <td>118.674660</td>\n",
       "      <td>14996.48</td>\n",
       "    </tr>\n",
       "    <tr>\n",
       "      <th>4</th>\n",
       "      <td>2013-10-04</td>\n",
       "      <td>121.338660</td>\n",
       "      <td>15072.58</td>\n",
       "    </tr>\n",
       "    <tr>\n",
       "      <th>...</th>\n",
       "      <td>...</td>\n",
       "      <td>...</td>\n",
       "      <td>...</td>\n",
       "    </tr>\n",
       "    <tr>\n",
       "      <th>1906</th>\n",
       "      <td>2021-04-23</td>\n",
       "      <td>50669.144382</td>\n",
       "      <td>34043.49</td>\n",
       "    </tr>\n",
       "    <tr>\n",
       "      <th>1907</th>\n",
       "      <td>2021-04-26</td>\n",
       "      <td>53558.707845</td>\n",
       "      <td>33981.57</td>\n",
       "    </tr>\n",
       "    <tr>\n",
       "      <th>1908</th>\n",
       "      <td>2021-04-27</td>\n",
       "      <td>55123.861981</td>\n",
       "      <td>33984.93</td>\n",
       "    </tr>\n",
       "    <tr>\n",
       "      <th>1909</th>\n",
       "      <td>2021-04-28</td>\n",
       "      <td>54591.515326</td>\n",
       "      <td>33820.38</td>\n",
       "    </tr>\n",
       "    <tr>\n",
       "      <th>1910</th>\n",
       "      <td>2021-04-29</td>\n",
       "      <td>53260.295341</td>\n",
       "      <td>34060.36</td>\n",
       "    </tr>\n",
       "  </tbody>\n",
       "</table>\n",
       "<p>1911 rows × 3 columns</p>\n",
       "</div>"
      ],
      "text/plain": [
       "          date_  price_usd_bc     score\n",
       "0    2013-09-30    123.654990  15129.67\n",
       "1    2013-10-01    125.455000  15191.70\n",
       "2    2013-10-02    108.584830  15133.14\n",
       "3    2013-10-03    118.674660  14996.48\n",
       "4    2013-10-04    121.338660  15072.58\n",
       "...         ...           ...       ...\n",
       "1906 2021-04-23  50669.144382  34043.49\n",
       "1907 2021-04-26  53558.707845  33981.57\n",
       "1908 2021-04-27  55123.861981  33984.93\n",
       "1909 2021-04-28  54591.515326  33820.38\n",
       "1910 2021-04-29  53260.295341  34060.36\n",
       "\n",
       "[1911 rows x 3 columns]"
      ]
     },
     "execution_count": 39,
     "metadata": {},
     "output_type": "execute_result"
    }
   ],
   "source": [
    "pd.read_sql_query(\"SELECT bitcoin_data.date_, bitcoin_data.price_usd_bc, djia_data.score \\\n",
    "                    FROM bitcoin_data \\\n",
    "                    JOIN djia_data \\\n",
    "                    ON bitcoin_data.date_ = djia_data.date_\", con = engine)"
   ]
  }
 ],
 "metadata": {
  "kernelspec": {
   "display_name": "Python [conda env:PythonData] *",
   "language": "python",
   "name": "conda-env-PythonData-py"
  },
  "language_info": {
   "codemirror_mode": {
    "name": "ipython",
    "version": 3
   },
   "file_extension": ".py",
   "mimetype": "text/x-python",
   "name": "python",
   "nbconvert_exporter": "python",
   "pygments_lexer": "ipython3",
   "version": "3.6.10"
  }
 },
 "nbformat": 4,
 "nbformat_minor": 5
}
